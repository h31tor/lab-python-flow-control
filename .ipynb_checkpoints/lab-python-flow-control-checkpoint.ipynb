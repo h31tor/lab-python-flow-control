{
 "cells": [
  {
   "cell_type": "markdown",
   "id": "d3bfc191-8885-42ee-b0a0-bbab867c6f9f",
   "metadata": {
    "tags": []
   },
   "source": [
    "# Lab | Flow Control"
   ]
  },
  {
   "cell_type": "markdown",
   "id": "3851fcd1-cf98-4653-9c89-e003b7ec9400",
   "metadata": {},
   "source": [
    "## Exercise: Managing Customer Orders Optimized\n",
    "\n",
    "In the last lab, you were starting an online store that sells various products. To ensure smooth operations, you developed a program that manages customer orders and inventory.\n",
    "\n",
    "You did so without using flow control. Let's go a step further and improve this code.\n",
    "\n",
    "Follow the steps below to complete the exercise:\n",
    "\n",
    "1. Look at your code from the lab data structures, and improve repeated code with loops.\n",
    "\n",
    "2. Instead of asking the user to input the name of three products that a customer wants to order, do the following:\n",
    "    \n",
    "    a. Prompt the user to enter the name of a product that a customer wants to order.\n",
    "    \n",
    "    b. Add the product name to the \"customer_orders\" set.\n",
    "    \n",
    "    c. Ask the user if they want to add another product (yes/no).\n",
    "    \n",
    "    d. Continue the loop until the user does not want to add another product.\n",
    "\n",
    "3. Instead of updating the inventory by subtracting 1 from the quantity of each product, only do it for  the products that were ordered (those in \"customer_orders\")."
   ]
  },
  {
   "cell_type": "code",
   "execution_count": 2,
   "id": "0fe2ac21-9e19-4343-b455-f7b53a2ae3f8",
   "metadata": {},
   "outputs": [
    {
     "name": "stdin",
     "output_type": "stream",
     "text": [
      "t-shirt :  10\n",
      "mug :  10\n",
      "hat :  10\n",
      "book :  10\n",
      "keychain :  10\n"
     ]
    },
    {
     "data": {
      "text/plain": [
       "{'t-shirt': 10, 'mug': 10, 'hat': 10, 'book': 10, 'keychain': 10}"
      ]
     },
     "execution_count": 2,
     "metadata": {},
     "output_type": "execute_result"
    }
   ],
   "source": [
    "products = [\"t-shirt\", \"mug\", \"hat\", \"book\", \"keychain\"]\n",
    "inventory = {}\n",
    "\n",
    "for index in products :\n",
    "    amount = int(input(f\"{index} : \"))\n",
    "    inventory[index] = amount\n",
    "    \n",
    "inventory    "
   ]
  },
  {
   "cell_type": "code",
   "execution_count": 14,
   "id": "13f606be-a9db-4fe5-8761-0d311f524386",
   "metadata": {},
   "outputs": [
    {
     "name": "stdin",
     "output_type": "stream",
     "text": [
      "Enter a product:  mug\n"
     ]
    },
    {
     "name": "stdout",
     "output_type": "stream",
     "text": [
      "mug added to order\n"
     ]
    },
    {
     "name": "stdin",
     "output_type": "stream",
     "text": [
      "Would you like to keep on ordering? (Yes/No) wrong answer\n",
      "Would you like to keep on ordering? (Yes/No) lalal\n",
      "Would you like to keep on ordering? (Yes/No) yes\n",
      "Enter a product:  book\n"
     ]
    },
    {
     "name": "stdout",
     "output_type": "stream",
     "text": [
      "book added to order\n"
     ]
    },
    {
     "name": "stdin",
     "output_type": "stream",
     "text": [
      "Would you like to keep on ordering? (Yes/No) YES\n",
      "Enter a product:  T-SHIRT\n"
     ]
    },
    {
     "name": "stdout",
     "output_type": "stream",
     "text": [
      "t-shirt added to order\n"
     ]
    },
    {
     "name": "stdin",
     "output_type": "stream",
     "text": [
      "Would you like to keep on ordering? (Yes/No) NO\n"
     ]
    },
    {
     "data": {
      "text/plain": [
       "{'book', 'mug', 't-shirt'}"
      ]
     },
     "execution_count": 14,
     "metadata": {},
     "output_type": "execute_result"
    }
   ],
   "source": [
    "keep_on = \"yes\"\n",
    "customer_orders = set()\n",
    "\n",
    "while keep_on == \"yes\" :       \n",
    "    product = input(f\"Enter a product: \").lower()\n",
    "    if product in inventory :\n",
    "        if inventory.get(product) >= 1 :\n",
    "            customer_orders.add(product)\n",
    "            print(f\"{product} added to order\")\n",
    "            answer = \"\"\n",
    "            while answer not in (\"yes\", \"no\") :\n",
    "                answer = input(\"Would you like to keep on ordering? (Yes/No)\").lower()\n",
    "            keep_on = answer    \n",
    "        else :\n",
    "            print(f\"No stock available for {product}\")\n",
    "    else :\n",
    "        print(f\"{product} not found!\")\n",
    "        \n",
    "customer_orders  "
   ]
  },
  {
   "cell_type": "code",
   "execution_count": 16,
   "id": "168af1a0-8fbd-466f-88fb-be84fb02b24b",
   "metadata": {},
   "outputs": [
    {
     "data": {
      "text/plain": [
       "['Order Statistics: Total Products Ordered: 3',\n",
       " 'Percentage of Products Ordered: 6.0%']"
      ]
     },
     "execution_count": 16,
     "metadata": {},
     "output_type": "execute_result"
    }
   ],
   "source": [
    "total = len(customer_orders)\n",
    "percentage = round(len(customer_orders) / sum(inventory.values()) * 100, 2)\n",
    "order_status = [f\"Order Statistics: Total Products Ordered: {total}\", f\"Percentage of Products Ordered: {percentage}%\"]\n",
    "order_status"
   ]
  },
  {
   "cell_type": "code",
   "execution_count": 26,
   "id": "66e9727f-ada7-4f40-9c14-22dd5424340a",
   "metadata": {},
   "outputs": [
    {
     "name": "stdout",
     "output_type": "stream",
     "text": [
      "t-shirt 6\n",
      "mug 6\n",
      "hat 10\n",
      "book 6\n",
      "keychain 10\n"
     ]
    }
   ],
   "source": [
    "for product in customer_orders :\n",
    "    if product in customer_orders :\n",
    "        inventory[product] -= 1\n",
    "\n",
    "for key, value in inventory.items() : \n",
    "    print(key, value)"
   ]
  },
  {
   "cell_type": "code",
   "execution_count": null,
   "id": "8cd3ebb9-ebbf-4ff3-a084-a638814a8fd5",
   "metadata": {},
   "outputs": [],
   "source": []
  }
 ],
 "metadata": {
  "kernelspec": {
   "display_name": "Python [conda env:base] *",
   "language": "python",
   "name": "conda-base-py"
  },
  "language_info": {
   "codemirror_mode": {
    "name": "ipython",
    "version": 3
   },
   "file_extension": ".py",
   "mimetype": "text/x-python",
   "name": "python",
   "nbconvert_exporter": "python",
   "pygments_lexer": "ipython3",
   "version": "3.12.7"
  }
 },
 "nbformat": 4,
 "nbformat_minor": 5
}
